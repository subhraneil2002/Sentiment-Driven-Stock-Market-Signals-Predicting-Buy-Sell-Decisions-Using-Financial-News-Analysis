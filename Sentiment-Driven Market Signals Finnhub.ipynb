{
 "cells": [
  {
   "cell_type": "markdown",
   "id": "3bb91a09",
   "metadata": {},
   "source": [
    "# Importing the Libraries"
   ]
  },
  {
   "cell_type": "code",
   "execution_count": 1,
   "id": "ceb1736a",
   "metadata": {},
   "outputs": [],
   "source": [
    "import yfinance as yf\n",
    "import pandas as pd\n",
    "import numpy as np\n",
    "from vaderSentiment.vaderSentiment import SentimentIntensityAnalyzer\n",
    "from sklearn.model_selection import train_test_split\n",
    "from sklearn.ensemble import RandomForestClassifier\n",
    "from sklearn.metrics import accuracy_score\n",
    "from newsapi import NewsApiClient\n",
    "import re"
   ]
  },
  {
   "cell_type": "markdown",
   "id": "2152dc9d",
   "metadata": {},
   "source": [
    "# Collecting News Data"
   ]
  },
  {
   "cell_type": "code",
   "execution_count": 2,
   "id": "43a7b81a",
   "metadata": {},
   "outputs": [
    {
     "name": "stdout",
     "output_type": "stream",
     "text": [
      "                  Date                                               News\n",
      "0  2024-10-26 09:54:57  JPMorgan: A Cautious Investor's Perspective JP...\n",
      "1  2024-10-26 08:40:00  Dividend Champion, Contender, And Challenger H...\n",
      "2  2024-10-26 02:02:47  Will Jamie Dimon break political silence befor...\n",
      "3  2024-10-25 21:21:02  TDVG: High Dividend Growth, But Competitors Ar...\n",
      "4  2024-10-25 19:54:00  JPMorgan, Bank Of America, Citi Earnings Summa...\n"
     ]
    }
   ],
   "source": [
    "import requests\n",
    "import pandas as pd\n",
    "from datetime import datetime, timedelta\n",
    "\n",
    "# Replace 'YOUR_API_KEY' with your actual Finnhub API key\n",
    "API_KEY = 'cse9gdhr01qs1ihohca0cse9gdhr01qs1ihohcag'\n",
    "\n",
    "# Function to fetch news data from Finnhub\n",
    "def get_news_data(symbol, from_date, to_date):\n",
    "    url = f'https://finnhub.io/api/v1/company-news?symbol={symbol}&from={from_date}&to={to_date}&token={API_KEY}'\n",
    "    response = requests.get(url)\n",
    "    articles = response.json()\n",
    "    \n",
    "    # Prepare the news data\n",
    "    news_data = []\n",
    "    for article in articles:\n",
    "        title = article['headline'] if 'headline' in article else ''\n",
    "        description = article['summary'] if 'summary' in article else ''\n",
    "        published_at = datetime.fromtimestamp(article['datetime']).strftime('%Y-%m-%d %H:%M:%S')\n",
    "        news_data.append((published_at, title + ' ' + description))\n",
    "    \n",
    "    return pd.DataFrame(news_data, columns=['Date', 'News'])\n",
    "\n",
    "# Get the current date and the date one year ago\n",
    "to_date = datetime.now().strftime('%Y-%m-%d')\n",
    "from_date = (datetime.now() - timedelta(days=365)).strftime('%Y-%m-%d')\n",
    "\n",
    "# Fetch news data for the last year for Apple Inc. (AAPL)\n",
    "news_df = get_news_data('JPM', from_date, to_date)\n",
    "\n",
    "# Show the first 5 rows of the dataframe\n",
    "print(news_df.head())"
   ]
  },
  {
   "cell_type": "code",
   "execution_count": 3,
   "id": "78177f5f",
   "metadata": {},
   "outputs": [
    {
     "data": {
      "text/plain": [
       "(204, 2)"
      ]
     },
     "execution_count": 3,
     "metadata": {},
     "output_type": "execute_result"
    }
   ],
   "source": [
    "news_df.shape"
   ]
  },
  {
   "cell_type": "markdown",
   "id": "be280c76",
   "metadata": {},
   "source": [
    "# Collecting Historical Price Data"
   ]
  },
  {
   "cell_type": "code",
   "execution_count": 4,
   "id": "3b967620",
   "metadata": {},
   "outputs": [
    {
     "name": "stderr",
     "output_type": "stream",
     "text": [
      "[*********************100%%**********************]  1 of 1 completed"
     ]
    },
    {
     "name": "stdout",
     "output_type": "stream",
     "text": [
      "                  Open        High         Low       Close   Adj Close  \\\n",
      "Date                                                                     \n",
      "2023-10-27  138.949997  139.100006  135.190002  135.690002  132.525391   \n",
      "2023-10-30  136.440002  138.039993  136.039993  137.419998  134.215027   \n",
      "2023-10-31  137.710007  139.240005  137.470001  139.059998  135.816788   \n",
      "2023-11-01  139.250000  140.529999  138.470001  138.940002  135.699585   \n",
      "2023-11-02  140.089996  141.479996  139.229996  141.419998  138.121735   \n",
      "\n",
      "              Volume  \n",
      "Date                  \n",
      "2023-10-27  17434700  \n",
      "2023-10-30   9855500  \n",
      "2023-10-31   9672500  \n",
      "2023-11-01   9432000  \n",
      "2023-11-02  10186200  \n"
     ]
    },
    {
     "name": "stderr",
     "output_type": "stream",
     "text": [
      "\n"
     ]
    }
   ],
   "source": [
    "import yfinance as yf\n",
    "from datetime import datetime, timedelta\n",
    "\n",
    "# Get the current date and the date one year ago\n",
    "end_date = datetime.now().strftime('%Y-%m-%d')\n",
    "start_date = (datetime.now() - timedelta(days=365)).strftime('%Y-%m-%d')\n",
    "\n",
    "# Download stock data for the last year\n",
    "stock_data = yf.download('JPM', start=start_date, end=end_date)\n",
    "\n",
    "# Show the first 5 rows of the stock data\n",
    "print(stock_data.head())"
   ]
  },
  {
   "cell_type": "markdown",
   "id": "997c5bb4",
   "metadata": {},
   "source": [
    "# Finding the CAGR, Sharpe Ratio, Sortino Ratio and Maximum Dropdown"
   ]
  },
  {
   "cell_type": "code",
   "execution_count": 5,
   "id": "0dbcfc12",
   "metadata": {},
   "outputs": [
    {
     "name": "stdout",
     "output_type": "stream",
     "text": [
      "CAGR: 68.10%\n",
      "Sharpe Ratio: 2.67\n",
      "Sortino Ratio: 3.01\n",
      "Max Drawdown: -10.13%\n"
     ]
    }
   ],
   "source": [
    "import numpy as np\n",
    "\n",
    "# 1. CAGR (Compound Annual Growth Rate)\n",
    "def calculate_cagr(data):\n",
    "    # Assuming data['Adj Close'] is the adjusted closing price\n",
    "    cumulative_return = data['Adj Close'].iloc[-1] / data['Adj Close'].iloc[0]\n",
    "    years = len(data) / 252  # Assuming 252 trading days in a year\n",
    "    cagr = cumulative_return ** (1 / years) - 1\n",
    "    return cagr\n",
    "\n",
    "# 2. Sharpe Ratio\n",
    "def calculate_sharpe_ratio(data, risk_free_rate=0.02):\n",
    "    returns = data['Adj Close'].pct_change()\n",
    "    excess_return = returns.mean() - risk_free_rate / 252\n",
    "    sharpe_ratio = excess_return / returns.std() * np.sqrt(252)\n",
    "    return sharpe_ratio\n",
    "\n",
    "# 3. Sortino Ratio\n",
    "def calculate_sortino_ratio(data, risk_free_rate=0.02):\n",
    "    returns = data['Adj Close'].pct_change()\n",
    "    negative_return = returns[returns < 0]\n",
    "    excess_return = returns.mean() - risk_free_rate / 252\n",
    "    sortino_ratio = excess_return / negative_return.std() * np.sqrt(252) if negative_return.std() != 0 else np.nan\n",
    "    return sortino_ratio\n",
    "\n",
    "# 4. Maximum Drawdown\n",
    "def calculate_max_drawdown(data):\n",
    "    cumulative_return = (1 + data['Adj Close'].pct_change()).cumprod()\n",
    "    cumulative_max = cumulative_return.cummax()\n",
    "    drawdown = cumulative_return / cumulative_max - 1\n",
    "    max_drawdown = drawdown.min()\n",
    "    return max_drawdown\n",
    "\n",
    "# Calculate the metrics\n",
    "cagr = calculate_cagr(stock_data)\n",
    "sharpe_ratio = calculate_sharpe_ratio(stock_data)\n",
    "sortino_ratio = calculate_sortino_ratio(stock_data)\n",
    "max_drawdown = calculate_max_drawdown(stock_data)\n",
    "\n",
    "# Print the results\n",
    "print(f\"CAGR: {cagr:.2%}\")\n",
    "print(f\"Sharpe Ratio: {sharpe_ratio:.2f}\")\n",
    "print(f\"Sortino Ratio: {sortino_ratio:.2f}\")\n",
    "print(f\"Max Drawdown: {max_drawdown:.2%}\")"
   ]
  },
  {
   "cell_type": "markdown",
   "id": "52cc54de",
   "metadata": {},
   "source": [
    "# Cleaning the news data"
   ]
  },
  {
   "cell_type": "code",
   "execution_count": 6,
   "id": "dbdeeee8",
   "metadata": {},
   "outputs": [],
   "source": [
    "import re\n",
    "from vaderSentiment.vaderSentiment import SentimentIntensityAnalyzer\n",
    "\n",
    "# Preprocess the news data (clean text)\n",
    "def preprocess_text(text):\n",
    "    text = re.sub(r'[^\\w\\s]', '', text)  # Remove punctuation\n",
    "    text = re.sub(r'\\d+', '', text)      # Remove numbers\n",
    "    text = text.lower().strip()          # Convert to lowercase\n",
    "    return text\n",
    "\n",
    "news_df['News'] = news_df['News'].apply(preprocess_text)\n",
    "\n",
    "# Check if 'Date' column exists, and drop it if necessary\n",
    "if 'Date' in stock_data.columns:\n",
    "    stock_data = stock_data.drop(columns=['Date'])"
   ]
  },
  {
   "cell_type": "markdown",
   "id": "f688fc06",
   "metadata": {},
   "source": [
    "# Merging the news data with the historical price data"
   ]
  },
  {
   "cell_type": "code",
   "execution_count": 7,
   "id": "b281a6f9",
   "metadata": {},
   "outputs": [
    {
     "data": {
      "text/html": [
       "<div>\n",
       "<style scoped>\n",
       "    .dataframe tbody tr th:only-of-type {\n",
       "        vertical-align: middle;\n",
       "    }\n",
       "\n",
       "    .dataframe tbody tr th {\n",
       "        vertical-align: top;\n",
       "    }\n",
       "\n",
       "    .dataframe thead th {\n",
       "        text-align: right;\n",
       "    }\n",
       "</style>\n",
       "<table border=\"1\" class=\"dataframe\">\n",
       "  <thead>\n",
       "    <tr style=\"text-align: right;\">\n",
       "      <th></th>\n",
       "      <th>Date</th>\n",
       "      <th>News</th>\n",
       "      <th>Open</th>\n",
       "      <th>High</th>\n",
       "      <th>Low</th>\n",
       "      <th>Close</th>\n",
       "      <th>Adj Close</th>\n",
       "      <th>Volume</th>\n",
       "    </tr>\n",
       "  </thead>\n",
       "  <tbody>\n",
       "    <tr>\n",
       "      <th>0</th>\n",
       "      <td>2024-10-25</td>\n",
       "      <td>tdvg high dividend growth but competitors are ...</td>\n",
       "      <td>225.0</td>\n",
       "      <td>225.619995</td>\n",
       "      <td>220.880005</td>\n",
       "      <td>222.309998</td>\n",
       "      <td>222.309998</td>\n",
       "      <td>6366700</td>\n",
       "    </tr>\n",
       "    <tr>\n",
       "      <th>1</th>\n",
       "      <td>2024-10-25</td>\n",
       "      <td>jpmorgan bank of america citi earnings summari...</td>\n",
       "      <td>225.0</td>\n",
       "      <td>225.619995</td>\n",
       "      <td>220.880005</td>\n",
       "      <td>222.309998</td>\n",
       "      <td>222.309998</td>\n",
       "      <td>6366700</td>\n",
       "    </tr>\n",
       "    <tr>\n",
       "      <th>2</th>\n",
       "      <td>2024-10-25</td>\n",
       "      <td>piper sandler reaffirms their buy rating on jp...</td>\n",
       "      <td>225.0</td>\n",
       "      <td>225.619995</td>\n",
       "      <td>220.880005</td>\n",
       "      <td>222.309998</td>\n",
       "      <td>222.309998</td>\n",
       "      <td>6366700</td>\n",
       "    </tr>\n",
       "    <tr>\n",
       "      <th>3</th>\n",
       "      <td>2024-10-25</td>\n",
       "      <td>jpmorgan exceeds  percent in the capital of bp...</td>\n",
       "      <td>225.0</td>\n",
       "      <td>225.619995</td>\n",
       "      <td>220.880005</td>\n",
       "      <td>222.309998</td>\n",
       "      <td>222.309998</td>\n",
       "      <td>6366700</td>\n",
       "    </tr>\n",
       "    <tr>\n",
       "      <th>4</th>\n",
       "      <td>2024-10-25</td>\n",
       "      <td>corecard corp confidently befitting a five yea...</td>\n",
       "      <td>225.0</td>\n",
       "      <td>225.619995</td>\n",
       "      <td>220.880005</td>\n",
       "      <td>222.309998</td>\n",
       "      <td>222.309998</td>\n",
       "      <td>6366700</td>\n",
       "    </tr>\n",
       "  </tbody>\n",
       "</table>\n",
       "</div>"
      ],
      "text/plain": [
       "         Date                                               News   Open  \\\n",
       "0  2024-10-25  tdvg high dividend growth but competitors are ...  225.0   \n",
       "1  2024-10-25  jpmorgan bank of america citi earnings summari...  225.0   \n",
       "2  2024-10-25  piper sandler reaffirms their buy rating on jp...  225.0   \n",
       "3  2024-10-25  jpmorgan exceeds  percent in the capital of bp...  225.0   \n",
       "4  2024-10-25  corecard corp confidently befitting a five yea...  225.0   \n",
       "\n",
       "         High         Low       Close   Adj Close   Volume  \n",
       "0  225.619995  220.880005  222.309998  222.309998  6366700  \n",
       "1  225.619995  220.880005  222.309998  222.309998  6366700  \n",
       "2  225.619995  220.880005  222.309998  222.309998  6366700  \n",
       "3  225.619995  220.880005  222.309998  222.309998  6366700  \n",
       "4  225.619995  220.880005  222.309998  222.309998  6366700  "
      ]
     },
     "execution_count": 7,
     "metadata": {},
     "output_type": "execute_result"
    }
   ],
   "source": [
    "# Reset the index of stock_data to make 'Date' a column\n",
    "stock_data = stock_data.reset_index()\n",
    "\n",
    "# Convert the 'Date' column in both DataFrames to the same format\n",
    "stock_data['Date'] = pd.to_datetime(stock_data['Date']).dt.date\n",
    "news_df['Date'] = pd.to_datetime(news_df['Date']).dt.date\n",
    "\n",
    "# Merge the two DataFrames on the 'Date' column\n",
    "merged_df = pd.merge(news_df, stock_data, on='Date', how='inner')\n",
    "\n",
    "# Preview the merged DataFrame\n",
    "merged_df.head()"
   ]
  },
  {
   "cell_type": "code",
   "execution_count": 8,
   "id": "85ca3261",
   "metadata": {},
   "outputs": [
    {
     "data": {
      "text/plain": [
       "(185, 8)"
      ]
     },
     "execution_count": 8,
     "metadata": {},
     "output_type": "execute_result"
    }
   ],
   "source": [
    "merged_df.shape"
   ]
  },
  {
   "cell_type": "markdown",
   "id": "e9a850c1",
   "metadata": {},
   "source": [
    "# Performing VADER Sentiment Analysis "
   ]
  },
  {
   "cell_type": "code",
   "execution_count": 9,
   "id": "7242c3ec",
   "metadata": {},
   "outputs": [
    {
     "data": {
      "text/html": [
       "<div>\n",
       "<style scoped>\n",
       "    .dataframe tbody tr th:only-of-type {\n",
       "        vertical-align: middle;\n",
       "    }\n",
       "\n",
       "    .dataframe tbody tr th {\n",
       "        vertical-align: top;\n",
       "    }\n",
       "\n",
       "    .dataframe thead th {\n",
       "        text-align: right;\n",
       "    }\n",
       "</style>\n",
       "<table border=\"1\" class=\"dataframe\">\n",
       "  <thead>\n",
       "    <tr style=\"text-align: right;\">\n",
       "      <th></th>\n",
       "      <th>Date</th>\n",
       "      <th>News</th>\n",
       "      <th>Close</th>\n",
       "      <th>sentiment_score</th>\n",
       "    </tr>\n",
       "  </thead>\n",
       "  <tbody>\n",
       "    <tr>\n",
       "      <th>0</th>\n",
       "      <td>2024-10-25</td>\n",
       "      <td>tdvg high dividend growth but competitors are ...</td>\n",
       "      <td>222.309998</td>\n",
       "      <td>0.7899</td>\n",
       "    </tr>\n",
       "    <tr>\n",
       "      <th>1</th>\n",
       "      <td>2024-10-25</td>\n",
       "      <td>jpmorgan bank of america citi earnings summari...</td>\n",
       "      <td>222.309998</td>\n",
       "      <td>0.7845</td>\n",
       "    </tr>\n",
       "    <tr>\n",
       "      <th>2</th>\n",
       "      <td>2024-10-25</td>\n",
       "      <td>piper sandler reaffirms their buy rating on jp...</td>\n",
       "      <td>222.309998</td>\n",
       "      <td>0.0000</td>\n",
       "    </tr>\n",
       "    <tr>\n",
       "      <th>3</th>\n",
       "      <td>2024-10-25</td>\n",
       "      <td>jpmorgan exceeds  percent in the capital of bp...</td>\n",
       "      <td>222.309998</td>\n",
       "      <td>0.2023</td>\n",
       "    </tr>\n",
       "    <tr>\n",
       "      <th>4</th>\n",
       "      <td>2024-10-25</td>\n",
       "      <td>corecard corp confidently befitting a five yea...</td>\n",
       "      <td>222.309998</td>\n",
       "      <td>0.4767</td>\n",
       "    </tr>\n",
       "  </tbody>\n",
       "</table>\n",
       "</div>"
      ],
      "text/plain": [
       "         Date                                               News       Close  \\\n",
       "0  2024-10-25  tdvg high dividend growth but competitors are ...  222.309998   \n",
       "1  2024-10-25  jpmorgan bank of america citi earnings summari...  222.309998   \n",
       "2  2024-10-25  piper sandler reaffirms their buy rating on jp...  222.309998   \n",
       "3  2024-10-25  jpmorgan exceeds  percent in the capital of bp...  222.309998   \n",
       "4  2024-10-25  corecard corp confidently befitting a five yea...  222.309998   \n",
       "\n",
       "   sentiment_score  \n",
       "0           0.7899  \n",
       "1           0.7845  \n",
       "2           0.0000  \n",
       "3           0.2023  \n",
       "4           0.4767  "
      ]
     },
     "execution_count": 9,
     "metadata": {},
     "output_type": "execute_result"
    }
   ],
   "source": [
    "analyzer = SentimentIntensityAnalyzer()\n",
    "\n",
    "# Analyze sentiment for each news article\n",
    "def get_sentiment_score(text):\n",
    "    sentiment = analyzer.polarity_scores(text)\n",
    "    return sentiment['compound']\n",
    "\n",
    "# Apply sentiment analysis on each news article\n",
    "merged_df['sentiment_score'] = merged_df['News'].apply(get_sentiment_score)\n",
    "\n",
    "# Preview the data\n",
    "merged_df[['Date', 'News', 'Close', 'sentiment_score']].head()"
   ]
  },
  {
   "cell_type": "markdown",
   "id": "dc4fbe86",
   "metadata": {},
   "source": [
    "# Setting a signal for buying or selling "
   ]
  },
  {
   "cell_type": "code",
   "execution_count": 10,
   "id": "0f2f5926",
   "metadata": {},
   "outputs": [
    {
     "data": {
      "text/html": [
       "<div>\n",
       "<style scoped>\n",
       "    .dataframe tbody tr th:only-of-type {\n",
       "        vertical-align: middle;\n",
       "    }\n",
       "\n",
       "    .dataframe tbody tr th {\n",
       "        vertical-align: top;\n",
       "    }\n",
       "\n",
       "    .dataframe thead th {\n",
       "        text-align: right;\n",
       "    }\n",
       "</style>\n",
       "<table border=\"1\" class=\"dataframe\">\n",
       "  <thead>\n",
       "    <tr style=\"text-align: right;\">\n",
       "      <th></th>\n",
       "      <th>Date</th>\n",
       "      <th>News</th>\n",
       "      <th>sentiment_score</th>\n",
       "      <th>Sentiment_Label</th>\n",
       "      <th>Signal</th>\n",
       "    </tr>\n",
       "  </thead>\n",
       "  <tbody>\n",
       "    <tr>\n",
       "      <th>0</th>\n",
       "      <td>2024-10-25</td>\n",
       "      <td>tdvg high dividend growth but competitors are ...</td>\n",
       "      <td>0.7899</td>\n",
       "      <td>Positive</td>\n",
       "      <td>1</td>\n",
       "    </tr>\n",
       "    <tr>\n",
       "      <th>1</th>\n",
       "      <td>2024-10-25</td>\n",
       "      <td>jpmorgan bank of america citi earnings summari...</td>\n",
       "      <td>0.7845</td>\n",
       "      <td>Positive</td>\n",
       "      <td>1</td>\n",
       "    </tr>\n",
       "    <tr>\n",
       "      <th>2</th>\n",
       "      <td>2024-10-25</td>\n",
       "      <td>piper sandler reaffirms their buy rating on jp...</td>\n",
       "      <td>0.0000</td>\n",
       "      <td>Neutral</td>\n",
       "      <td>0</td>\n",
       "    </tr>\n",
       "    <tr>\n",
       "      <th>3</th>\n",
       "      <td>2024-10-25</td>\n",
       "      <td>jpmorgan exceeds  percent in the capital of bp...</td>\n",
       "      <td>0.2023</td>\n",
       "      <td>Neutral</td>\n",
       "      <td>0</td>\n",
       "    </tr>\n",
       "    <tr>\n",
       "      <th>4</th>\n",
       "      <td>2024-10-25</td>\n",
       "      <td>corecard corp confidently befitting a five yea...</td>\n",
       "      <td>0.4767</td>\n",
       "      <td>Positive</td>\n",
       "      <td>1</td>\n",
       "    </tr>\n",
       "  </tbody>\n",
       "</table>\n",
       "</div>"
      ],
      "text/plain": [
       "         Date                                               News  \\\n",
       "0  2024-10-25  tdvg high dividend growth but competitors are ...   \n",
       "1  2024-10-25  jpmorgan bank of america citi earnings summari...   \n",
       "2  2024-10-25  piper sandler reaffirms their buy rating on jp...   \n",
       "3  2024-10-25  jpmorgan exceeds  percent in the capital of bp...   \n",
       "4  2024-10-25  corecard corp confidently befitting a five yea...   \n",
       "\n",
       "   sentiment_score Sentiment_Label  Signal  \n",
       "0           0.7899        Positive       1  \n",
       "1           0.7845        Positive       1  \n",
       "2           0.0000         Neutral       0  \n",
       "3           0.2023         Neutral       0  \n",
       "4           0.4767        Positive       1  "
      ]
     },
     "execution_count": 10,
     "metadata": {},
     "output_type": "execute_result"
    }
   ],
   "source": [
    "# Function to classify sentiment and provide buy/hold/sell signals\n",
    "def classify_sentiment_and_signal(sentiment_score):\n",
    "    if sentiment_score > 0.4:\n",
    "        return 'Positive', 1  # 1 for \"Buy\"\n",
    "    elif sentiment_score < 0:\n",
    "        return 'Negative', -1  # -1 for \"Sell\"\n",
    "    else:\n",
    "        return 'Neutral', 0  # 0 for \"Hold\"\n",
    "\n",
    "# Apply the classification and signal to the DataFrame\n",
    "merged_df['Sentiment_Label'], merged_df['Signal'] = zip(*merged_df['sentiment_score'].apply(classify_sentiment_and_signal))\n",
    "\n",
    "# Display the DataFrame with updated sentiment labels and signals\n",
    "new_df = merged_df[['Date', 'News', 'sentiment_score', 'Sentiment_Label', 'Signal']]\n",
    "\n",
    "# Show the first few rows to inspect the results\n",
    "new_df.head()"
   ]
  },
  {
   "cell_type": "markdown",
   "id": "1ecc948a",
   "metadata": {},
   "source": [
    "# Based on the historical data, the number of positives or negatives are checked whether buying or selling is valid"
   ]
  },
  {
   "cell_type": "code",
   "execution_count": 11,
   "id": "62e034f1",
   "metadata": {},
   "outputs": [
    {
     "name": "stdout",
     "output_type": "stream",
     "text": [
      "Total Positive (Buy): 91\n",
      "Total Neutral (Hold): 75\n",
      "Total Negative (Sell): 19\n",
      "Final Decision: Buy\n"
     ]
    }
   ],
   "source": [
    "# Function to classify overall sentiment and determine Buy/Hold/Sell decision\n",
    "def calculate_final_decision(merged_df):\n",
    "    # Count total signals in the dataframe\n",
    "    positive_count = (merged_df['Signal'] == 1).sum()  # Buy signals (Positive)\n",
    "    neutral_count = (merged_df['Sentiment_Label'] == 'Neutral').sum()  # Neutral signals\n",
    "    negative_count = (merged_df['Signal'] == -1).sum()  # Sell signals (Negative)\n",
    "    \n",
    "    # Display the counts\n",
    "    print(f\"Total Positive (Buy): {positive_count}\")\n",
    "    print(f\"Total Neutral (Hold): {neutral_count}\")\n",
    "    print(f\"Total Negative (Sell): {negative_count}\")\n",
    "    \n",
    "    # Determine the final decision based on the counts\n",
    "    if positive_count > neutral_count and positive_count > negative_count:\n",
    "        return \"Buy\"\n",
    "    elif neutral_count > positive_count and neutral_count > negative_count:\n",
    "        return \"Hold\"\n",
    "    else:\n",
    "        return \"Sell\"\n",
    "\n",
    "# Example Usage: Calculate the final decision\n",
    "final_decision = calculate_final_decision(merged_df)\n",
    "\n",
    "# Display the final decision\n",
    "print(f\"Final Decision: {final_decision}\")"
   ]
  },
  {
   "cell_type": "markdown",
   "id": "cf0e7c68",
   "metadata": {},
   "source": [
    "# Changing the data to fit a ML model"
   ]
  },
  {
   "cell_type": "code",
   "execution_count": 12,
   "id": "70d88f96",
   "metadata": {},
   "outputs": [],
   "source": [
    "merged_df = merged_df.drop(columns = ['Open', 'High', 'Low', 'Adj Close', 'Volume'])\n",
    "\n",
    "# Assuming 'Price' is a column in your DataFrame\n",
    "merged_df['Price_MA'] = merged_df['Close'].rolling(window=5).mean()  # 5-day moving average for example\n",
    "\n",
    "# Now you can proceed with calculating Price_Change\n",
    "merged_df['Price_Change'] = merged_df['Price_MA'].pct_change() * 100  # Percent change in price\n",
    "\n",
    "# Feature Engineering: Moving Averages for Sentiment\n",
    "merged_df['Sentiment_MA_5'] = merged_df['sentiment_score'].rolling(window=5).mean()\n",
    "merged_df['Sentiment_MA_10'] = merged_df['sentiment_score'].rolling(window=10).mean()\n",
    "\n",
    "# Fill missing values after calculating moving averages\n",
    "merged_df.fillna(0, inplace=True)"
   ]
  },
  {
   "cell_type": "code",
   "execution_count": 13,
   "id": "171f8bf1",
   "metadata": {
    "scrolled": false
   },
   "outputs": [
    {
     "data": {
      "text/html": [
       "<div>\n",
       "<style scoped>\n",
       "    .dataframe tbody tr th:only-of-type {\n",
       "        vertical-align: middle;\n",
       "    }\n",
       "\n",
       "    .dataframe tbody tr th {\n",
       "        vertical-align: top;\n",
       "    }\n",
       "\n",
       "    .dataframe thead th {\n",
       "        text-align: right;\n",
       "    }\n",
       "</style>\n",
       "<table border=\"1\" class=\"dataframe\">\n",
       "  <thead>\n",
       "    <tr style=\"text-align: right;\">\n",
       "      <th></th>\n",
       "      <th>Date</th>\n",
       "      <th>News</th>\n",
       "      <th>Close</th>\n",
       "      <th>sentiment_score</th>\n",
       "      <th>Sentiment_Label</th>\n",
       "      <th>Signal</th>\n",
       "      <th>Price_MA</th>\n",
       "      <th>Price_Change</th>\n",
       "      <th>Sentiment_MA_5</th>\n",
       "      <th>Sentiment_MA_10</th>\n",
       "    </tr>\n",
       "  </thead>\n",
       "  <tbody>\n",
       "    <tr>\n",
       "      <th>0</th>\n",
       "      <td>2024-10-25</td>\n",
       "      <td>tdvg high dividend growth but competitors are ...</td>\n",
       "      <td>222.309998</td>\n",
       "      <td>0.7899</td>\n",
       "      <td>Positive</td>\n",
       "      <td>1</td>\n",
       "      <td>0.000000</td>\n",
       "      <td>0.0</td>\n",
       "      <td>0.00000</td>\n",
       "      <td>0.0</td>\n",
       "    </tr>\n",
       "    <tr>\n",
       "      <th>1</th>\n",
       "      <td>2024-10-25</td>\n",
       "      <td>jpmorgan bank of america citi earnings summari...</td>\n",
       "      <td>222.309998</td>\n",
       "      <td>0.7845</td>\n",
       "      <td>Positive</td>\n",
       "      <td>1</td>\n",
       "      <td>0.000000</td>\n",
       "      <td>0.0</td>\n",
       "      <td>0.00000</td>\n",
       "      <td>0.0</td>\n",
       "    </tr>\n",
       "    <tr>\n",
       "      <th>2</th>\n",
       "      <td>2024-10-25</td>\n",
       "      <td>piper sandler reaffirms their buy rating on jp...</td>\n",
       "      <td>222.309998</td>\n",
       "      <td>0.0000</td>\n",
       "      <td>Neutral</td>\n",
       "      <td>0</td>\n",
       "      <td>0.000000</td>\n",
       "      <td>0.0</td>\n",
       "      <td>0.00000</td>\n",
       "      <td>0.0</td>\n",
       "    </tr>\n",
       "    <tr>\n",
       "      <th>3</th>\n",
       "      <td>2024-10-25</td>\n",
       "      <td>jpmorgan exceeds  percent in the capital of bp...</td>\n",
       "      <td>222.309998</td>\n",
       "      <td>0.2023</td>\n",
       "      <td>Neutral</td>\n",
       "      <td>0</td>\n",
       "      <td>0.000000</td>\n",
       "      <td>0.0</td>\n",
       "      <td>0.00000</td>\n",
       "      <td>0.0</td>\n",
       "    </tr>\n",
       "    <tr>\n",
       "      <th>4</th>\n",
       "      <td>2024-10-25</td>\n",
       "      <td>corecard corp confidently befitting a five yea...</td>\n",
       "      <td>222.309998</td>\n",
       "      <td>0.4767</td>\n",
       "      <td>Positive</td>\n",
       "      <td>1</td>\n",
       "      <td>222.309998</td>\n",
       "      <td>0.0</td>\n",
       "      <td>0.45068</td>\n",
       "      <td>0.0</td>\n",
       "    </tr>\n",
       "  </tbody>\n",
       "</table>\n",
       "</div>"
      ],
      "text/plain": [
       "         Date                                               News       Close  \\\n",
       "0  2024-10-25  tdvg high dividend growth but competitors are ...  222.309998   \n",
       "1  2024-10-25  jpmorgan bank of america citi earnings summari...  222.309998   \n",
       "2  2024-10-25  piper sandler reaffirms their buy rating on jp...  222.309998   \n",
       "3  2024-10-25  jpmorgan exceeds  percent in the capital of bp...  222.309998   \n",
       "4  2024-10-25  corecard corp confidently befitting a five yea...  222.309998   \n",
       "\n",
       "   sentiment_score Sentiment_Label  Signal    Price_MA  Price_Change  \\\n",
       "0           0.7899        Positive       1    0.000000           0.0   \n",
       "1           0.7845        Positive       1    0.000000           0.0   \n",
       "2           0.0000         Neutral       0    0.000000           0.0   \n",
       "3           0.2023         Neutral       0    0.000000           0.0   \n",
       "4           0.4767        Positive       1  222.309998           0.0   \n",
       "\n",
       "   Sentiment_MA_5  Sentiment_MA_10  \n",
       "0         0.00000              0.0  \n",
       "1         0.00000              0.0  \n",
       "2         0.00000              0.0  \n",
       "3         0.00000              0.0  \n",
       "4         0.45068              0.0  "
      ]
     },
     "execution_count": 13,
     "metadata": {},
     "output_type": "execute_result"
    }
   ],
   "source": [
    "merged_df.head()"
   ]
  },
  {
   "cell_type": "markdown",
   "id": "32732dae",
   "metadata": {},
   "source": [
    "# Model Building and Fitting"
   ]
  },
  {
   "cell_type": "code",
   "execution_count": 14,
   "id": "db86efa3",
   "metadata": {},
   "outputs": [],
   "source": [
    "import yfinance as yf\n",
    "from datetime import datetime, timedelta\n",
    "import numpy as np\n",
    "import pandas as pd\n",
    "from sklearn.model_selection import train_test_split, cross_val_score\n",
    "from sklearn.ensemble import RandomForestClassifier, GradientBoostingClassifier\n",
    "from sklearn.linear_model import LogisticRegression  # Change to LogisticRegression for binary classification\n",
    "from sklearn.metrics import classification_report, confusion_matrix, accuracy_score"
   ]
  },
  {
   "cell_type": "code",
   "execution_count": 15,
   "id": "82c2f17a",
   "metadata": {},
   "outputs": [],
   "source": [
    "# Define features (X) and target (y)\n",
    "X = merged_df[['sentiment_score', 'Price_Change', 'Sentiment_MA_5', 'Sentiment_MA_10']]  # Feature set\n",
    "y = merged_df['Signal']  # Target variable (Buy = 1, Hold = 0, Sell = -1)\n",
    "\n",
    "# Split the data into training and testing sets\n",
    "X_train, X_test, y_train, y_test = train_test_split(X, y, test_size=0.3, random_state=42)"
   ]
  },
  {
   "cell_type": "code",
   "execution_count": 16,
   "id": "88f8024a",
   "metadata": {},
   "outputs": [],
   "source": [
    "# Initialize classifiers\n",
    "logistic_regression = LogisticRegression()\n",
    "random_forest = RandomForestClassifier()\n",
    "gradient_boosting = GradientBoostingClassifier()"
   ]
  },
  {
   "cell_type": "code",
   "execution_count": 17,
   "id": "3d618a2c",
   "metadata": {},
   "outputs": [
    {
     "name": "stdout",
     "output_type": "stream",
     "text": [
      "Logistic Regression Performance:\n",
      "Accuracy: 0.8928571428571429\n",
      "              precision    recall  f1-score   support\n",
      "\n",
      "          -1       1.00      0.17      0.29         6\n",
      "           0       0.78      0.95      0.86        19\n",
      "           1       0.97      1.00      0.98        31\n",
      "\n",
      "    accuracy                           0.89        56\n",
      "   macro avg       0.92      0.70      0.71        56\n",
      "weighted avg       0.91      0.89      0.87        56\n",
      "\n",
      "Random Forest Performance:\n",
      "Accuracy: 1.0\n",
      "              precision    recall  f1-score   support\n",
      "\n",
      "          -1       1.00      1.00      1.00         6\n",
      "           0       1.00      1.00      1.00        19\n",
      "           1       1.00      1.00      1.00        31\n",
      "\n",
      "    accuracy                           1.00        56\n",
      "   macro avg       1.00      1.00      1.00        56\n",
      "weighted avg       1.00      1.00      1.00        56\n",
      "\n",
      "Gradient Boosting Performance:\n",
      "Accuracy: 1.0\n",
      "              precision    recall  f1-score   support\n",
      "\n",
      "          -1       1.00      1.00      1.00         6\n",
      "           0       1.00      1.00      1.00        19\n",
      "           1       1.00      1.00      1.00        31\n",
      "\n",
      "    accuracy                           1.00        56\n",
      "   macro avg       1.00      1.00      1.00        56\n",
      "weighted avg       1.00      1.00      1.00        56\n",
      "\n"
     ]
    }
   ],
   "source": [
    "# Train and evaluate Logistic Regression\n",
    "logistic_regression.fit(X_train, y_train)\n",
    "y_pred_lr = logistic_regression.predict(X_test)\n",
    "print(\"Logistic Regression Performance:\")\n",
    "print(f\"Accuracy: {accuracy_score(y_test, y_pred_lr)}\")\n",
    "print(classification_report(y_test, y_pred_lr))\n",
    "\n",
    "# Train and evaluate Random Forest\n",
    "random_forest.fit(X_train, y_train)\n",
    "y_pred_rf = random_forest.predict(X_test)\n",
    "print(\"Random Forest Performance:\")\n",
    "print(f\"Accuracy: {accuracy_score(y_test, y_pred_rf)}\")\n",
    "print(classification_report(y_test, y_pred_rf))\n",
    "\n",
    "# Train and evaluate Gradient Boosting\n",
    "gradient_boosting.fit(X_train, y_train)\n",
    "y_pred_gb = gradient_boosting.predict(X_test)\n",
    "print(\"Gradient Boosting Performance:\")\n",
    "print(f\"Accuracy: {accuracy_score(y_test, y_pred_gb)}\")\n",
    "print(classification_report(y_test, y_pred_gb))"
   ]
  },
  {
   "cell_type": "markdown",
   "id": "3be4ae47",
   "metadata": {},
   "source": [
    "# Evaluating"
   ]
  },
  {
   "cell_type": "code",
   "execution_count": 18,
   "id": "d5182da1",
   "metadata": {},
   "outputs": [
    {
     "name": "stdout",
     "output_type": "stream",
     "text": [
      "Final Predictions using the best performing model:\n",
      "[ 0  0  1  0  1  1  1  1  0  1  1  0  0  1  0  0  0  0  0  1  0  1  1  1\n",
      "  1  1  0  0  0  1  1  1  0  1  1  1  1  1 -1  1  1  1  1  0  0  0  0  1\n",
      "  1  1  1  1  0  1  0  0]\n"
     ]
    }
   ],
   "source": [
    "# Make final predictions with the best performing model\n",
    "final_predictions = logistic_regression.predict(X_test)\n",
    "print(\"Final Predictions using the best performing model:\")\n",
    "print(final_predictions)"
   ]
  },
  {
   "cell_type": "markdown",
   "id": "49dc9291",
   "metadata": {},
   "source": [
    "# Final decision"
   ]
  },
  {
   "cell_type": "code",
   "execution_count": 19,
   "id": "572ed5dc",
   "metadata": {},
   "outputs": [
    {
     "name": "stdout",
     "output_type": "stream",
     "text": [
      "Final Decision (Numerical): 1\n",
      "Final Action: Buy\n"
     ]
    }
   ],
   "source": [
    "# Aggregate predictions to decide final action\n",
    "def calculate_final_decision(predictions):\n",
    "    # Count occurrences of each class\n",
    "    counts = pd.Series(predictions).value_counts()\n",
    "    most_common = counts.idxmax()  # Get the most frequent class\n",
    "    return most_common\n",
    "\n",
    "# Define a mapping from numerical signals to actions\n",
    "def map_signal_to_action(signal):\n",
    "    if signal == 1:\n",
    "        return \"Buy\"\n",
    "    elif signal == -1:\n",
    "        return \"Sell\"\n",
    "    elif signal == 0:\n",
    "        return \"Hold\"\n",
    "    else:\n",
    "        return \"Unknown\"\n",
    "\n",
    "# Calculate the final decision\n",
    "final_decision = calculate_final_decision(final_predictions)\n",
    "\n",
    "# Map the final decision to the corresponding action\n",
    "final_action = map_signal_to_action(final_decision)\n",
    "\n",
    "print(f\"Final Decision (Numerical): {final_decision}\")\n",
    "print(f\"Final Action: {final_action}\")"
   ]
  }
 ],
 "metadata": {
  "kernelspec": {
   "display_name": "Python 3 (ipykernel)",
   "language": "python",
   "name": "python3"
  },
  "language_info": {
   "codemirror_mode": {
    "name": "ipython",
    "version": 3
   },
   "file_extension": ".py",
   "mimetype": "text/x-python",
   "name": "python",
   "nbconvert_exporter": "python",
   "pygments_lexer": "ipython3",
   "version": "3.11.5"
  }
 },
 "nbformat": 4,
 "nbformat_minor": 5
}
